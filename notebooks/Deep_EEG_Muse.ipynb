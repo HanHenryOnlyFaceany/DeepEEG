{
  "nbformat": 4,
  "nbformat_minor": 0,
  "metadata": {
    "colab": {
      "name": "Deep_EEG_Muse.ipynb",
      "version": "0.3.2",
      "provenance": [],
      "collapsed_sections": [],
      "toc_visible": true,
      "include_colab_link": true
    },
    "kernelspec": {
      "name": "python3",
      "display_name": "Python 3"
    },
    "accelerator": "GPU"
  },
  "cells": [
    {
      "cell_type": "markdown",
      "metadata": {
        "id": "view-in-github",
        "colab_type": "text"
      },
      "source": [
        "<a href=\"https://colab.research.google.com/github/kylemath/DeepEEG/blob/master/notebooks/Deep_EEG_Muse.ipynb\" target=\"_parent\"><img src=\"https://colab.research.google.com/assets/colab-badge.svg\" alt=\"Open In Colab\"/></a>"
      ]
    },
    {
      "cell_type": "markdown",
      "metadata": {
        "id": "cH7KRd8ZZPMd",
        "colab_type": "text"
      },
      "source": [
        "## DeepEEG\n"
      ]
    },
    {
      "cell_type": "code",
      "metadata": {
        "id": "KjZu4dFMFHJV",
        "colab_type": "code",
        "colab": {}
      },
      "source": [
        "!git clone https://github.com/kylemath/DeepEEG\n",
        "!chmod +x ./DeepEEG/install.sh\n",
        "%cd DeepEEG\n",
        "!./install.sh\n",
        "from utils import *\n",
        "%matplotlib inline"
      ],
      "execution_count": 0,
      "outputs": []
    },
    {
      "cell_type": "markdown",
      "metadata": {
        "id": "FhkDPfIq1ewa",
        "colab_type": "text"
      },
      "source": [
        "#Load Data, Concatenate\n"
      ]
    },
    {
      "cell_type": "code",
      "metadata": {
        "id": "jhU8hlcg1e6T",
        "colab_type": "code",
        "colab": {}
      },
      "source": [
        "!git clone https://github.com/kylemath/eeg-notebooks/\n",
        "data_dir = 'visual/cueing'\n",
        "\n",
        "subs = [101, 102, 103, 104, 105, 106, 108, 109, 110, 111, 112,\n",
        "        202, 203, 204, 205, 207, 208, 209, 210, 211,\n",
        "        301, 302, 303, 304, 305, 306, 307, 308, 309,\n",
        "        1101, 1102, 1103, 1104, 1105, 1106, 1108, 1109, 1110,\n",
        "        1202, 1203, 1205, 1206, 1209, 1210, 1211, 1215,\n",
        "        1301, 1302, 1313, \n",
        "        1401, 1402, 1403, 1404, 1405,  1408, 1410, 1411, 1412, 1413, 1413, 1414, 1415, 1416]\n",
        "\n",
        "nsesh = 2\n",
        "event_id = {'LeftCue':1, 'RightCue':2}\n",
        "\n",
        "raw = LoadMuseData(subs,nsesh,data_dir)\n",
        "\n",
        "#subs = [ 1]\n",
        "#nsesh = 1\n",
        "#data_dir = 'visual/P300'\n",
        "#event_names = ['Standard','Target']\n",
        "\n",
        "#subs = [ 4]\n",
        "#nsesh = 1\n",
        "#data_dir = 'visual/SSVEP'\n",
        "#event_names = ['f30Hz','f20Hz']"
      ],
      "execution_count": 0,
      "outputs": []
    },
    {
      "cell_type": "markdown",
      "metadata": {
        "id": "oEd72sIHuiFc",
        "colab_type": "text"
      },
      "source": [
        "#Run Preprocessing\n",
        "\n",
        "**Input:  mne.raw, event_id**\n",
        "\n",
        "**Output: mne.epochs**\n",
        "```python\n",
        "plot_psd=False\n",
        "filter_data=True\n",
        "eeg_filter_highpass=1\n",
        "plot_events=False\n",
        "epoch_time=(-.2,1)\n",
        "baseline=(-.2,0)\n",
        "rej_thresh_uV=200\n",
        "rereference=False\n",
        "emcp_raw=False\n",
        "emcp_epochs=False\n",
        "epoch_decim=1\n",
        "plot_electrodes=False\n",
        "plot_erp=False\n",
        "```"
      ]
    },
    {
      "cell_type": "code",
      "metadata": {
        "id": "3HiHs8CluhjP",
        "colab_type": "code",
        "outputId": "70c40caf-689c-4f7e-868d-7b94affceeb7",
        "colab": {
          "base_uri": "https://localhost:8080/",
          "height": 85
        }
      },
      "source": [
        "epochs = PreProcess(raw,event_id)\n"
      ],
      "execution_count": 0,
      "outputs": [
        {
          "output_type": "stream",
          "text": [
            "Filtering Data Between 1 and 30 Hz.\n",
            "4583 events found\n",
            "Event IDs: [ 1  2 11 12 21 22]\n",
            "Remaining Trials: 1408\n"
          ],
          "name": "stdout"
        }
      ]
    },
    {
      "cell_type": "markdown",
      "metadata": {
        "id": "pwqD_voiDypa",
        "colab_type": "text"
      },
      "source": [
        "#Run FeatureEngineer\n",
        "**Input:  mne.epochs**\n",
        "\n",
        "**Output: deepeeg.feats**\n",
        "```python\n",
        "model_type='NN'\n",
        "frequency_domain=False\n",
        "normalization=True\n",
        "electrode_median=False\n",
        "wavelet_decim=1\n",
        "flims=(3,30)\n",
        "f_bins=20\n",
        "wave_cycles=3\n",
        "spect_baseline=[-1,-.5]\n",
        "electrodes_out=[11,12,13,14,15]\n",
        "test_split = 0.2\n",
        "val_split = 0.2\n",
        "random_seed=1017\n",
        "watermark = False\n",
        "```"
      ]
    },
    {
      "cell_type": "code",
      "metadata": {
        "id": "i_jYlTW1A6sb",
        "colab_type": "code",
        "outputId": "4a93d84c-7ea9-45a9-d312-f801fb29fcb1",
        "colab": {
          "base_uri": "https://localhost:8080/",
          "height": 221
        }
      },
      "source": [
        "feats = FeatureEngineer(epochs,model_type='NN')"
      ],
      "execution_count": 0,
      "outputs": [
        {
          "output_type": "stream",
          "text": [
            "Constructing Time Domain Features\n",
            "Normalizing X\n",
            "Combined X Shape: (1408, 256, 4)\n",
            "Combined Y Shape: (1408,)\n",
            "Y Example (should be 1s & 0s): [1 1 0 0 0 0 0 1 0 0]\n",
            "X Range: -12.106191:9.781672\n",
            "Input Shape: (256, 4)\n",
            "x_train shape: (844, 256, 4)\n",
            "844 train samples\n",
            "282 test samples\n",
            "282 validation samples\n",
            "Class Weights: [0.97011494 1.03178484]\n"
          ],
          "name": "stdout"
        }
      ]
    },
    {
      "cell_type": "markdown",
      "metadata": {
        "id": "9ChMvr-jKp8P",
        "colab_type": "text"
      },
      "source": [
        "# Run CreateModel\n",
        "\n",
        "**Input: deepeeg.feats**\n",
        "\n",
        "**Output: deepeeg.model, deepeeg.encoder**\n",
        "\n",
        "```python\n",
        "units=[16,8,4,8,16]\n",
        "dropout=.25\n",
        "batch_norm=True\n",
        "filt_size=3\n",
        "pool_size=2\n",
        "```"
      ]
    },
    {
      "cell_type": "code",
      "metadata": {
        "id": "HFf3rBbJKqHR",
        "colab_type": "code",
        "colab": {}
      },
      "source": [
        "model, _ = CreateModel(feats)"
      ],
      "execution_count": 0,
      "outputs": []
    },
    {
      "cell_type": "markdown",
      "metadata": {
        "id": "-EKBjSapfE4O",
        "colab_type": "text"
      },
      "source": [
        "# TrainTestVal\n",
        "\n",
        "**Input: deepEEG.model, deepEEG.feats**\n",
        "\n",
        "```python\n",
        "batch_size=2\n",
        "train_epochs=20\n",
        "show_plots=True\n",
        "```"
      ]
    },
    {
      "cell_type": "code",
      "metadata": {
        "id": "u6ize7eJfB3J",
        "colab_type": "code",
        "colab": {}
      },
      "source": [
        "TrainTestVal(model, feats)"
      ],
      "execution_count": 0,
      "outputs": []
    }
  ]
}